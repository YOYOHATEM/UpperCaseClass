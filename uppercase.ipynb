{
 "cells": [
  {
   "cell_type": "markdown",
   "metadata": {},
   "source": [
    "team names:  \n",
    "\n",
    "yousef ahmed mahmoud  \n",
    "mahmoud sayed shrief  \n",
    "youssef ahmed esmat  \n",
    "hamed samir  \n",
    "\n"
   ]
  },
  {
   "cell_type": "code",
   "execution_count": 4,
   "metadata": {},
   "outputs": [],
   "source": [
    "class MyString:\n",
    "    def __init__(self,newString):\n",
    "        self.newString=newString\n",
    "\n",
    "    def toUpperCase(self):\n",
    "        upperString=[]\n",
    "        for string in self.newString:\n",
    "            if 97 <= ord(string) <= 122:\n",
    "                upperString.append(chr(ord(string)-32))\n",
    "            else:\n",
    "                upperString.append(string)\n",
    "        return ''.join(upperString)"
   ]
  },
  {
   "cell_type": "code",
   "execution_count": 9,
   "metadata": {},
   "outputs": [],
   "source": [
    "rString=input('enter string:')\n",
    "\n",
    "upString = MyString(rString)"
   ]
  },
  {
   "cell_type": "code",
   "execution_count": 10,
   "metadata": {},
   "outputs": [
    {
     "data": {
      "text/plain": [
       "'yOsddG'"
      ]
     },
     "execution_count": 10,
     "metadata": {},
     "output_type": "execute_result"
    }
   ],
   "source": [
    "upString.newString"
   ]
  },
  {
   "cell_type": "code",
   "execution_count": 11,
   "metadata": {},
   "outputs": [
    {
     "data": {
      "text/plain": [
       "'YOSDDG'"
      ]
     },
     "execution_count": 11,
     "metadata": {},
     "output_type": "execute_result"
    }
   ],
   "source": [
    "upString.toUpperCase()"
   ]
  }
 ],
 "metadata": {
  "kernelspec": {
   "display_name": "Python 3",
   "language": "python",
   "name": "python3"
  },
  "language_info": {
   "codemirror_mode": {
    "name": "ipython",
    "version": 3
   },
   "file_extension": ".py",
   "mimetype": "text/x-python",
   "name": "python",
   "nbconvert_exporter": "python",
   "pygments_lexer": "ipython3",
   "version": "3.12.4"
  }
 },
 "nbformat": 4,
 "nbformat_minor": 2
}
